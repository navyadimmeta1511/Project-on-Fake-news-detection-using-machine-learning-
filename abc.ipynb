{
 "cells": [
  {
   "cell_type": "markdown",
   "id": "5f209262-fcf0-4a19-bd7c-84466542141c",
   "metadata": {},
   "source": [
    "# Importing Modules "
   ]
  },
  {
   "cell_type": "code",
   "execution_count": null,
   "id": "75fa1158-cc65-4003-9e36-5cf2af86a980",
   "metadata": {},
   "outputs": [
    {
     "ename": "",
     "evalue": "",
     "output_type": "error",
     "traceback": [
      "\u001b[1;31mRunning cells with 'project (Python 3.8.0)' requires the ipykernel package.\n",
      "\u001b[1;31m<a href='command:jupyter.createPythonEnvAndSelectController'>Create a Python Environment</a> with the required packages.\n",
      "\u001b[1;31mOr install 'ipykernel' using the command: 'conda install -n project ipykernel --update-deps --force-reinstall'"
     ]
    }
   ],
   "source": [
    "import pandas as pd\n",
    "import matplotlib.pyplot as plt\n",
    "from sklearn.metrics import accuracy_score, classification_report,roc_curve\n",
    "from imblearn.over_sampling import SMOTE\n",
    "from sklearn.metrics import confusion_matrix\n",
    "import seaborn as sns"
   ]
  },
  {
   "cell_type": "markdown",
   "id": "08a91480-9803-443f-82fc-905e598b5514",
   "metadata": {},
   "source": [
    "# Reading Dataset "
   ]
  },
  {
   "cell_type": "code",
   "execution_count": null,
   "id": "8563805d-c4dc-45f8-8c9c-903f8db47f47",
   "metadata": {},
   "outputs": [],
   "source": [
    "df = pd.read_csv('political_tweets_2019_2023.csv')\n",
    "df"
   ]
  },
  {
   "cell_type": "markdown",
   "id": "5335794b-97af-4a9a-9df9-e2398bc50d03",
   "metadata": {},
   "source": [
    "# Analysis DataSet & Preprocessing"
   ]
  },
  {
   "cell_type": "code",
   "execution_count": null,
   "id": "4a7678e2-bae2-413b-9b04-8750fff227fe",
   "metadata": {},
   "outputs": [],
   "source": [
    "print(df.isnull().sum())"
   ]
  },
  {
   "cell_type": "code",
   "execution_count": null,
   "id": "c77a920c-61a2-4a29-829f-2ee00464dff0",
   "metadata": {},
   "outputs": [],
   "source": [
    "print(df['tweet_fake_or_real'].value_counts())"
   ]
  },
  {
   "cell_type": "code",
   "execution_count": null,
   "id": "b60829a1-c34b-4e49-ae97-5e75a07c03e0",
   "metadata": {},
   "outputs": [],
   "source": [
    "df = df.drop(columns=[\"tweet_id\", \"tweet_posted_date\", \"user_name\", \"likes\"])"
   ]
  },
  {
   "cell_type": "code",
   "execution_count": null,
   "id": "348e6b16-3919-4721-8d20-664267469037",
   "metadata": {
    "scrolled": true
   },
   "outputs": [],
   "source": [
    "df"
   ]
  },
  {
   "cell_type": "markdown",
   "id": "9917dac4-0dd7-4c3d-890d-0bf93e4db3a9",
   "metadata": {},
   "source": [
    "# Pie Chart"
   ]
  },
  {
   "cell_type": "code",
   "execution_count": null,
   "id": "bf8a59ea-5a5d-47bc-b0ab-5da8bbb3174e",
   "metadata": {
    "scrolled": true
   },
   "outputs": [],
   "source": [
    "fake_count = df['tweet_fake_or_real'].value_counts()[False]\n",
    "real_count = df['tweet_fake_or_real'].value_counts()[True]\n",
    "\n",
    "labels = ['Fake Tweets', 'Real Tweets']\n",
    "sizes = [fake_count, real_count]\n",
    "colors = ['lightcoral', 'lightskyblue']\n",
    "explode = (0.1, 0)\n",
    "\n",
    "plt.figure(figsize=(4, 4))\n",
    "plt.pie(sizes, explode=explode, labels=labels, colors=colors, actopct='%1.1f%%', shadow=True, startangle=140)\n",
    "plt.title('Distribution of Fake vs. Real Tweets')\n",
    "plt.axis('equal')  # Equal aspect ratio ensures the pie chart is circular.\n",
    "plt.show()"
   ]
  },
  {
   "cell_type": "markdown",
   "id": "7c66e42c-c138-45e6-979c-8d96296bfb84",
   "metadata": {},
   "source": [
    "# Bar Graph"
   ]
  },
  {
   "cell_type": "code",
   "execution_count": null,
   "id": "507a5aec-eec8-4763-a62f-5848f4c51132",
   "metadata": {
    "scrolled": true
   },
   "outputs": [],
   "source": [
    "fake_count = df['tweet_fake_or_real'].value_counts()[False]  \n",
    "real_count = df['tweet_fake_or_real'].value_counts()[True]  \n",
    "\n",
    "categories = ['Fake Tweets', 'Real Tweets']\n",
    "counts = [fake_count, real_count]\n",
    "colors = ['lightcoral', 'lightskyblue']\n",
    "\n",
    "plt.figure(figsize=(3, 3))\n",
    "plt.bar(categories, counts, color=colors)\n",
    "plt.xlabel('Tweet Type')\n",
    "plt.ylabel('Count')\n",
    "plt.title('Distribution of Fake vs. Real Tweets')\n",
    "plt.show()"
   ]
  },
  {
   "cell_type": "markdown",
   "id": "2e266b12-6c6c-4814-a628-299396e223f8",
   "metadata": {},
   "source": [
    "# Applying NLP Cleaning Dataset"
   ]
  },
  {
   "cell_type": "markdown",
   "id": "8b71273c-31f9-483f-b287-801274a47959",
   "metadata": {},
   "source": [
    "Applying,stopwords,word_tokenize"
   ]
  },
  {
   "cell_type": "code",
   "execution_count": null,
   "id": "c92e36f7-9318-47a3-84e1-ba55f9519e7c",
   "metadata": {},
   "outputs": [],
   "source": [
    "import re\n",
    "from nltk.corpus import stopwords\n",
    "from nltk.tokenize import word_tokenize\n",
    "from sklearn.feature_extraction.text import TfidfVectorizer\n",
    "\n",
    "import nltk\n",
    "nltk.download('punkt')\n",
    "nltk.download('stopwords')\n",
    "\n",
    "def clean_text(text):\n",
    "    text = re.sub(r'[^a-zA-Z\\s]', '', text)\n",
    "    text = text.lower()\n",
    "    stop_words = set(stopwords.words('english'))\n",
    "    tokens = word_tokenize(text)\n",
    "    tokens = [word for word in tokens if word not in stop_words]\n",
    "    return ' '.join(tokens)\n"
   ]
  },
  {
   "cell_type": "code",
   "execution_count": null,
   "id": "ffef3677-7181-4dc8-a2c4-7b5b42f4b840",
   "metadata": {},
   "outputs": [],
   "source": [
    "df['cleaned_tweet'] = df['tweet'].apply(clean_text)"
   ]
  },
  {
   "cell_type": "markdown",
   "id": "ebce6d20-fbef-465a-b8b7-51f12fd223f0",
   "metadata": {},
   "source": [
    "# Applying TfidfVectorizer"
   ]
  },
  {
   "cell_type": "code",
   "execution_count": null,
   "id": "be5dc0cf-33de-42c9-abad-08f0fd71486a",
   "metadata": {},
   "outputs": [],
   "source": [
    "vectorizer = TfidfVectorizer(max_features=5000, ngram_range=(1, 2)) \n",
    "X = vectorizer.fit_transform(df['cleaned_tweet']).toarray()\n",
    "y = df['tweet_fake_or_real'].astype(int) "
   ]
  },
  {
   "cell_type": "code",
   "execution_count": null,
   "id": "484d184b-bf28-4d28-a968-b216b87e3c48",
   "metadata": {},
   "outputs": [],
   "source": [
    "y"
   ]
  },
  {
   "cell_type": "markdown",
   "id": "4e982e08-d79c-4bec-93e6-6d8fe5d8ac94",
   "metadata": {},
   "source": [
    "# Spliting Dataset"
   ]
  },
  {
   "cell_type": "code",
   "execution_count": null,
   "id": "03cf355f-57af-4416-9ca2-350d4a9aa408",
   "metadata": {},
   "outputs": [],
   "source": [
    "from sklearn.model_selection import train_test_split\n",
    "X_train, X_test, y_train, y_test = train_test_split(X, y, test_size=0.2, random_state=42)"
   ]
  },
  {
   "cell_type": "markdown",
   "id": "ccea4eb9-e983-4bcf-ad38-84bcc2cf2090",
   "metadata": {},
   "source": [
    "### Applying SMOTE Module too blanaceing the dataset"
   ]
  },
  {
   "cell_type": "code",
   "execution_count": null,
   "id": "6c8eb7b7-439f-4085-b115-fcb9a42058d3",
   "metadata": {},
   "outputs": [],
   "source": [
    "smote = SMOTE(random_state=42)\n",
    "X_train_res, y_train_res = smote.fit_resample(X_train, y_train)"
   ]
  },
  {
   "cell_type": "markdown",
   "id": "24e8b37b-1426-4142-9e37-7f68b3332215",
   "metadata": {},
   "source": [
    "# Applying Machine Learning Algorithm"
   ]
  },
  {
   "cell_type": "markdown",
   "id": "076f621d-0657-4af1-a4ae-27f4a2c2678c",
   "metadata": {},
   "source": [
    "#### LogisticRegression"
   ]
  },
  {
   "cell_type": "code",
   "execution_count": null,
   "id": "072c7cd4-dc01-4148-858c-94be18888de4",
   "metadata": {
    "scrolled": true
   },
   "outputs": [],
   "source": [
    "from sklearn.linear_model import LogisticRegression\n",
    "model = LogisticRegression()\n",
    "model.fit(X_train_res, y_train_res)\n",
    "\n",
    "y_pred = model.predict(X_test)\n",
    "\n",
    "print(\"Accuracy:\", accuracy_score(y_test, y_pred))"
   ]
  },
  {
   "cell_type": "markdown",
   "id": "b6c36058-f9a8-4cf8-ab3d-81ce2b89a8b0",
   "metadata": {},
   "source": [
    "# Classification Report"
   ]
  },
  {
   "cell_type": "code",
   "execution_count": null,
   "id": "af75fc7a-89ff-45ba-9f2f-47881205658a",
   "metadata": {},
   "outputs": [],
   "source": [
    "print(\"Classification Report:\\n\", classification_report(y_test, y_pred))"
   ]
  },
  {
   "cell_type": "code",
   "execution_count": null,
   "id": "0e417fda-9303-4854-aac1-7feb0e1fc743",
   "metadata": {},
   "outputs": [],
   "source": [
    "from sklearn.model_selection import GridSearchCV\n",
    "param_grid = {\n",
    "    'C': [0.01, 0.1, 1, 10, 100], \n",
    "    'penalty': ['l1', 'l2'],       \n",
    "    'solver': ['liblinear']         \n",
    "}\n",
    "grid_search = GridSearchCV(LogisticRegression(), param_grid, cv=2, scoring='accuracy')\n",
    "grid_search.fit(X_train_res, y_train_res)"
   ]
  },
  {
   "cell_type": "markdown",
   "id": "6f16506e-2d09-40c2-a872-3778c4e196aa",
   "metadata": {},
   "source": [
    "# Best Accuracy"
   ]
  },
  {
   "cell_type": "code",
   "execution_count": null,
   "id": "52e2ba87-b887-4038-8789-cd31ccf8b755",
   "metadata": {},
   "outputs": [],
   "source": [
    "print(\"Best Accuracy:\", grid_search.best_score_)"
   ]
  },
  {
   "cell_type": "markdown",
   "id": "c80d1a55-09fb-4cf8-b6be-4b71d35a0377",
   "metadata": {},
   "source": [
    "# Confusion Matrix"
   ]
  },
  {
   "cell_type": "code",
   "execution_count": null,
   "id": "40dffceb-930b-4bc6-aaca-fd234543e691",
   "metadata": {
    "scrolled": true
   },
   "outputs": [],
   "source": [
    "cm = confusion_matrix(y_test, y_pred)\n",
    "sns.heatmap(cm, annot=True, fmt='d', cmap='Blues', xticklabels=['Fake', 'Real'], yticklabels=['Fake', 'Real'])\n",
    "plt.xlabel('Predicted')\n",
    "plt.ylabel('Actual')\n",
    "plt.title('Confusion Matrix')\n",
    "plt.show()"
   ]
  },
  {
   "cell_type": "markdown",
   "id": "8125c5b9-206e-47e5-a291-98d6443fc264",
   "metadata": {},
   "source": [
    "# Model Save"
   ]
  },
  {
   "cell_type": "code",
   "execution_count": null,
   "id": "d1a4d5da-2ed9-4944-805a-ccd3e42d9914",
   "metadata": {},
   "outputs": [],
   "source": [
    "# import joblib\n",
    "# joblib.dump(model, 'fake_tweet_classifier.pkl')\n",
    "# joblib.dump(vectorizer, 'tfidf_vectorizer.pkl')"
   ]
  }
 ],
 "metadata": {
  "kernelspec": {
   "display_name": "Python 3",
   "language": "python",
   "name": "python3"
  },
  "language_info": {
   "codemirror_mode": {
    "name": "ipython",
    "version": 3
   },
   "file_extension": ".py",
   "mimetype": "text/x-python",
   "name": "python",
   "nbconvert_exporter": "python",
   "pygments_lexer": "ipython3",
   "version": "3.11.11"
  }
 },
 "nbformat": 4,
 "nbformat_minor": 5
}
